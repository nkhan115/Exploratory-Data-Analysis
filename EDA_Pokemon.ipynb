{
 "metadata": {
  "language_info": {
   "codemirror_mode": {
    "name": "ipython",
    "version": 3
   },
   "file_extension": ".py",
   "mimetype": "text/x-python",
   "name": "python",
   "nbconvert_exporter": "python",
   "pygments_lexer": "ipython3",
   "version": "3.8.8"
  },
  "orig_nbformat": 4,
  "kernelspec": {
   "name": "python3",
   "display_name": "Python 3.8.8 64-bit ('base': conda)"
  },
  "interpreter": {
   "hash": "64c0eae0c493783d635da78d11304120e9cd6a6f71b9638e79edc40943a3c688"
  }
 },
 "nbformat": 4,
 "nbformat_minor": 2,
 "cells": [
  {
   "cell_type": "code",
   "execution_count": 2,
   "metadata": {},
   "outputs": [
    {
     "output_type": "execute_result",
     "data": {
      "text/plain": [
       "   Number           Name Type 1  Type 2  HP  Attack  Defense  Sp. Atk  \\\n",
       "0       1      Bulbasaur  Grass  Poison  45      49       49       65   \n",
       "1       2        Ivysaur  Grass  Poison  60      62       63       80   \n",
       "2       3       Venusaur  Grass  Poison  80      82       83      100   \n",
       "3       4  Mega Venusaur  Grass  Poison  80     100      123      122   \n",
       "4       5     Charmander   Fire     NaN  39      52       43       60   \n",
       "\n",
       "   Sp. Def  Speed  Generation  Legendary  \n",
       "0       65     45           1      False  \n",
       "1       80     60           1      False  \n",
       "2      100     80           1      False  \n",
       "3      120     80           1      False  \n",
       "4       50     65           1      False  "
      ],
      "text/html": "<div>\n<style scoped>\n    .dataframe tbody tr th:only-of-type {\n        vertical-align: middle;\n    }\n\n    .dataframe tbody tr th {\n        vertical-align: top;\n    }\n\n    .dataframe thead th {\n        text-align: right;\n    }\n</style>\n<table border=\"1\" class=\"dataframe\">\n  <thead>\n    <tr style=\"text-align: right;\">\n      <th></th>\n      <th>Number</th>\n      <th>Name</th>\n      <th>Type 1</th>\n      <th>Type 2</th>\n      <th>HP</th>\n      <th>Attack</th>\n      <th>Defense</th>\n      <th>Sp. Atk</th>\n      <th>Sp. Def</th>\n      <th>Speed</th>\n      <th>Generation</th>\n      <th>Legendary</th>\n    </tr>\n  </thead>\n  <tbody>\n    <tr>\n      <th>0</th>\n      <td>1</td>\n      <td>Bulbasaur</td>\n      <td>Grass</td>\n      <td>Poison</td>\n      <td>45</td>\n      <td>49</td>\n      <td>49</td>\n      <td>65</td>\n      <td>65</td>\n      <td>45</td>\n      <td>1</td>\n      <td>False</td>\n    </tr>\n    <tr>\n      <th>1</th>\n      <td>2</td>\n      <td>Ivysaur</td>\n      <td>Grass</td>\n      <td>Poison</td>\n      <td>60</td>\n      <td>62</td>\n      <td>63</td>\n      <td>80</td>\n      <td>80</td>\n      <td>60</td>\n      <td>1</td>\n      <td>False</td>\n    </tr>\n    <tr>\n      <th>2</th>\n      <td>3</td>\n      <td>Venusaur</td>\n      <td>Grass</td>\n      <td>Poison</td>\n      <td>80</td>\n      <td>82</td>\n      <td>83</td>\n      <td>100</td>\n      <td>100</td>\n      <td>80</td>\n      <td>1</td>\n      <td>False</td>\n    </tr>\n    <tr>\n      <th>3</th>\n      <td>4</td>\n      <td>Mega Venusaur</td>\n      <td>Grass</td>\n      <td>Poison</td>\n      <td>80</td>\n      <td>100</td>\n      <td>123</td>\n      <td>122</td>\n      <td>120</td>\n      <td>80</td>\n      <td>1</td>\n      <td>False</td>\n    </tr>\n    <tr>\n      <th>4</th>\n      <td>5</td>\n      <td>Charmander</td>\n      <td>Fire</td>\n      <td>NaN</td>\n      <td>39</td>\n      <td>52</td>\n      <td>43</td>\n      <td>60</td>\n      <td>50</td>\n      <td>65</td>\n      <td>1</td>\n      <td>False</td>\n    </tr>\n  </tbody>\n</table>\n</div>"
     },
     "metadata": {},
     "execution_count": 2
    }
   ],
   "source": [
    "import numpy as np \n",
    "import pandas as pd \n",
    "import matplotlib as plt\n",
    "import seaborn as sns\n",
    "import random \n",
    "\n",
    "random.seed(1)\n",
    "pokemon = pd.read_csv('/Users/nasif/Desktop/datasets/pokemon.csv')\n",
    "pokemon = pokemon.rename(index=str, columns={\"#\" : \"Number\"})\n",
    "combat = pd.read_csv('/Users/nasif/Desktop/datasets/combats.csv')\n",
    "pokemon.head()"
   ]
  },
  {
   "cell_type": "code",
   "execution_count": 3,
   "metadata": {},
   "outputs": [
    {
     "output_type": "execute_result",
     "data": {
      "text/plain": [
       "   First_pokemon  Second_pokemon  Winner\n",
       "0            266             298     298\n",
       "1            702             701     701\n",
       "2            191             668     668\n",
       "3            237             683     683\n",
       "4            151             231     151"
      ],
      "text/html": "<div>\n<style scoped>\n    .dataframe tbody tr th:only-of-type {\n        vertical-align: middle;\n    }\n\n    .dataframe tbody tr th {\n        vertical-align: top;\n    }\n\n    .dataframe thead th {\n        text-align: right;\n    }\n</style>\n<table border=\"1\" class=\"dataframe\">\n  <thead>\n    <tr style=\"text-align: right;\">\n      <th></th>\n      <th>First_pokemon</th>\n      <th>Second_pokemon</th>\n      <th>Winner</th>\n    </tr>\n  </thead>\n  <tbody>\n    <tr>\n      <th>0</th>\n      <td>266</td>\n      <td>298</td>\n      <td>298</td>\n    </tr>\n    <tr>\n      <th>1</th>\n      <td>702</td>\n      <td>701</td>\n      <td>701</td>\n    </tr>\n    <tr>\n      <th>2</th>\n      <td>191</td>\n      <td>668</td>\n      <td>668</td>\n    </tr>\n    <tr>\n      <th>3</th>\n      <td>237</td>\n      <td>683</td>\n      <td>683</td>\n    </tr>\n    <tr>\n      <th>4</th>\n      <td>151</td>\n      <td>231</td>\n      <td>151</td>\n    </tr>\n  </tbody>\n</table>\n</div>"
     },
     "metadata": {},
     "execution_count": 3
    }
   ],
   "source": [
    "combat.head()"
   ]
  },
  {
   "cell_type": "code",
   "execution_count": 4,
   "metadata": {},
   "outputs": [
    {
     "output_type": "stream",
     "name": "stdout",
     "text": [
      "Dimensions of Pokemon: (800, 12)\nDimensions of Combat: (50000, 3)\n"
     ]
    }
   ],
   "source": [
    "#Looking at file dimensions\n",
    "print(\"Dimensions of Pokemon: \" + str(pokemon.shape))\n",
    "print(\"Dimensions of Combat: \" + str(combat.shape))"
   ]
  },
  {
   "cell_type": "code",
   "execution_count": 5,
   "metadata": {},
   "outputs": [
    {
     "output_type": "execute_result",
     "data": {
      "text/plain": [
       "Number          0\n",
       "Name            1\n",
       "Type 1          0\n",
       "Type 2        386\n",
       "HP              0\n",
       "Attack          0\n",
       "Defense         0\n",
       "Sp. Atk         0\n",
       "Sp. Def         0\n",
       "Speed           0\n",
       "Generation      0\n",
       "Legendary       0\n",
       "dtype: int64"
      ]
     },
     "metadata": {},
     "execution_count": 5
    }
   ],
   "source": [
    "pokemon.isnull().sum()"
   ]
  },
  {
   "cell_type": "code",
   "execution_count": 6,
   "metadata": {},
   "outputs": [
    {
     "output_type": "execute_result",
     "data": {
      "text/plain": [
       "First_pokemon     0\n",
       "Second_pokemon    0\n",
       "Winner            0\n",
       "dtype: int64"
      ]
     },
     "metadata": {},
     "execution_count": 6
    }
   ],
   "source": [
    "combat.isnull().sum()"
   ]
  },
  {
   "cell_type": "code",
   "execution_count": 7,
   "metadata": {},
   "outputs": [
    {
     "output_type": "stream",
     "name": "stdout",
     "text": [
      "    Number Name    Type 1 Type 2  HP  Attack  Defense  Sp. Atk  Sp. Def  \\\n62      63  NaN  Fighting    NaN  65     105       60       60       70   \n\n    Speed  Generation  Legendary  \n62     95           1      False  \nGrowlithe\nnan\nMankey\n"
     ]
    }
   ],
   "source": [
    "#find missing null value\n",
    "print(pokemon[pokemon['Name'].isnull()])\n",
    "\n",
    "print(pokemon['Name'][63])\n",
    "print(pokemon['Name'][62])\n",
    "print(pokemon['Name'][61])"
   ]
  },
  {
   "cell_type": "code",
   "execution_count": 8,
   "metadata": {},
   "outputs": [
    {
     "output_type": "stream",
     "name": "stderr",
     "text": [
      "<ipython-input-8-869cd22c7ed3>:2: SettingWithCopyWarning: \nA value is trying to be set on a copy of a slice from a DataFrame\n\nSee the caveats in the documentation: https://pandas.pydata.org/pandas-docs/stable/user_guide/indexing.html#returning-a-view-versus-a-copy\n  pokemon['Name'][62] = \"Primape\"\n"
     ]
    }
   ],
   "source": [
    "#Now that we know the missing pokemon is Primeape, we should update the datebase\n",
    "pokemon['Name'][62] = \"Primape\""
   ]
  },
  {
   "cell_type": "code",
   "execution_count": 17,
   "metadata": {},
   "outputs": [
    {
     "output_type": "stream",
     "name": "stdout",
     "text": [
      "Looking at the dimensions of our dataframes\nCount by first winner shape: (784, 2)\nCount by second winner shape: (784, 2)\nTotal Wins shape : (783,)\n"
     ]
    }
   ],
   "source": [
    "total_Wins = combat.Winner.value_counts()\n",
    "numberOfWins = combat.groupby('Winner').count()\n",
    "\n",
    "countByFirst = combat.groupby('Second_pokemon').count()\n",
    "countBySecond = combat.groupby('First_pokemon').count()\n",
    "print(\"Looking at the dimensions of our dataframes\")\n",
    "print(\"Count by first winner shape: \" + str(countByFirst.shape))\n",
    "print(\"Count by second winner shape: \" + str(countBySecond.shape))\n",
    "print(\"Total Wins shape : \" + str(total_Wins.shape))\n"
   ]
  },
  {
   "cell_type": "code",
   "execution_count": 18,
   "metadata": {},
   "outputs": [
    {
     "output_type": "stream",
     "name": "stdout",
     "text": [
      "Number            231\nName          Shuckle\nType 1            Bug\nType 2           Rock\nHP                 20\nAttack             10\nDefense           230\nSp. Atk            10\nSp. Def           230\nSpeed               5\nGeneration          2\nLegendary       False\nName: 230, dtype: object\n"
     ]
    }
   ],
   "source": [
    "find_losing_pokemon = np.setdiff1d(countByFirst.index.values, numberOfWins.index.values)-1\n",
    "losing_pokemon = pokemon.iloc[find_losing_pokemon[0],]\n",
    "print(losing_pokemon)"
   ]
  },
  {
   "cell_type": "code",
   "execution_count": 21,
   "metadata": {},
   "outputs": [
    {
     "output_type": "execute_result",
     "data": {
      "text/plain": [
       "     Number                  Name    Type 1   Type 2   HP  Attack  Defense  \\\n",
       "11       12             Blastoise     Water      NaN   79      83      100   \n",
       "32       33             Sandshrew    Ground      NaN   50      75       85   \n",
       "45       46            Wigglytuff    Normal    Fairy  140      70       45   \n",
       "65       66               Poliwag     Water      NaN   40      50       40   \n",
       "77       78            Victreebel     Grass   Poison   80     105       65   \n",
       "89       90              Magneton  Electric    Steel   50      60       95   \n",
       "143     144                 Ditto    Normal      NaN   48      48       48   \n",
       "182     183               Ariados       Bug   Poison   70      90       70   \n",
       "230     231               Shuckle       Bug     Rock   20      10      230   \n",
       "235     236              Ursaring    Normal      NaN   90     130       75   \n",
       "321     322              Hariyama  Fighting      NaN  144     120       60   \n",
       "418     419           Mega Latias    Dragon  Psychic   80     100      120   \n",
       "478     479             Honchkrow      Dark   Flying  100     125       52   \n",
       "555     556               Servine     Grass      NaN   60      60       75   \n",
       "617     618              Maractus     Grass      NaN   75      86       67   \n",
       "654     655             Jellicent     Water    Ghost  100      60       70   \n",
       "781     782  Pumpkaboo Small Size     Ghost    Grass   44      66       70   \n",
       "\n",
       "     Sp. Atk  Sp. Def  Speed  Generation  Legendary  First_pokemon  \\\n",
       "11        85      105     78           1      False            NaN   \n",
       "32        20       30     40           1      False            NaN   \n",
       "45        85       50     45           1      False            NaN   \n",
       "65        40       40     90           1      False            NaN   \n",
       "77       100       70     70           1      False            NaN   \n",
       "89       120       70     70           1      False            NaN   \n",
       "143       48       48     48           1      False            NaN   \n",
       "182       60       60     40           2      False            NaN   \n",
       "230       10      230      5           2      False            NaN   \n",
       "235       75       75     55           2      False            NaN   \n",
       "321       40       60     50           3      False            NaN   \n",
       "418      140      150    110           3       True            NaN   \n",
       "478      105       52     71           4      False            NaN   \n",
       "555       60       75     83           5      False            NaN   \n",
       "617      106       67     60           5      False            NaN   \n",
       "654       85      105     60           5      False            NaN   \n",
       "781       44       55     56           6      False            NaN   \n",
       "\n",
       "     Second_pokemon  Total Fights  Win Percentage  \n",
       "11              NaN           NaN             NaN  \n",
       "32              NaN           NaN             NaN  \n",
       "45              NaN           NaN             NaN  \n",
       "65              NaN           NaN             NaN  \n",
       "77              NaN           NaN             NaN  \n",
       "89              NaN           NaN             NaN  \n",
       "143             NaN           NaN             NaN  \n",
       "182             NaN           NaN             NaN  \n",
       "230             NaN           NaN             NaN  \n",
       "235             NaN           NaN             NaN  \n",
       "321             NaN           NaN             NaN  \n",
       "418             NaN           NaN             NaN  \n",
       "478             NaN           NaN             NaN  \n",
       "555             NaN           NaN             NaN  \n",
       "617             NaN           NaN             NaN  \n",
       "654             NaN           NaN             NaN  \n",
       "781             NaN           NaN             NaN  "
      ],
      "text/html": "<div>\n<style scoped>\n    .dataframe tbody tr th:only-of-type {\n        vertical-align: middle;\n    }\n\n    .dataframe tbody tr th {\n        vertical-align: top;\n    }\n\n    .dataframe thead th {\n        text-align: right;\n    }\n</style>\n<table border=\"1\" class=\"dataframe\">\n  <thead>\n    <tr style=\"text-align: right;\">\n      <th></th>\n      <th>Number</th>\n      <th>Name</th>\n      <th>Type 1</th>\n      <th>Type 2</th>\n      <th>HP</th>\n      <th>Attack</th>\n      <th>Defense</th>\n      <th>Sp. Atk</th>\n      <th>Sp. Def</th>\n      <th>Speed</th>\n      <th>Generation</th>\n      <th>Legendary</th>\n      <th>First_pokemon</th>\n      <th>Second_pokemon</th>\n      <th>Total Fights</th>\n      <th>Win Percentage</th>\n    </tr>\n  </thead>\n  <tbody>\n    <tr>\n      <th>11</th>\n      <td>12</td>\n      <td>Blastoise</td>\n      <td>Water</td>\n      <td>NaN</td>\n      <td>79</td>\n      <td>83</td>\n      <td>100</td>\n      <td>85</td>\n      <td>105</td>\n      <td>78</td>\n      <td>1</td>\n      <td>False</td>\n      <td>NaN</td>\n      <td>NaN</td>\n      <td>NaN</td>\n      <td>NaN</td>\n    </tr>\n    <tr>\n      <th>32</th>\n      <td>33</td>\n      <td>Sandshrew</td>\n      <td>Ground</td>\n      <td>NaN</td>\n      <td>50</td>\n      <td>75</td>\n      <td>85</td>\n      <td>20</td>\n      <td>30</td>\n      <td>40</td>\n      <td>1</td>\n      <td>False</td>\n      <td>NaN</td>\n      <td>NaN</td>\n      <td>NaN</td>\n      <td>NaN</td>\n    </tr>\n    <tr>\n      <th>45</th>\n      <td>46</td>\n      <td>Wigglytuff</td>\n      <td>Normal</td>\n      <td>Fairy</td>\n      <td>140</td>\n      <td>70</td>\n      <td>45</td>\n      <td>85</td>\n      <td>50</td>\n      <td>45</td>\n      <td>1</td>\n      <td>False</td>\n      <td>NaN</td>\n      <td>NaN</td>\n      <td>NaN</td>\n      <td>NaN</td>\n    </tr>\n    <tr>\n      <th>65</th>\n      <td>66</td>\n      <td>Poliwag</td>\n      <td>Water</td>\n      <td>NaN</td>\n      <td>40</td>\n      <td>50</td>\n      <td>40</td>\n      <td>40</td>\n      <td>40</td>\n      <td>90</td>\n      <td>1</td>\n      <td>False</td>\n      <td>NaN</td>\n      <td>NaN</td>\n      <td>NaN</td>\n      <td>NaN</td>\n    </tr>\n    <tr>\n      <th>77</th>\n      <td>78</td>\n      <td>Victreebel</td>\n      <td>Grass</td>\n      <td>Poison</td>\n      <td>80</td>\n      <td>105</td>\n      <td>65</td>\n      <td>100</td>\n      <td>70</td>\n      <td>70</td>\n      <td>1</td>\n      <td>False</td>\n      <td>NaN</td>\n      <td>NaN</td>\n      <td>NaN</td>\n      <td>NaN</td>\n    </tr>\n    <tr>\n      <th>89</th>\n      <td>90</td>\n      <td>Magneton</td>\n      <td>Electric</td>\n      <td>Steel</td>\n      <td>50</td>\n      <td>60</td>\n      <td>95</td>\n      <td>120</td>\n      <td>70</td>\n      <td>70</td>\n      <td>1</td>\n      <td>False</td>\n      <td>NaN</td>\n      <td>NaN</td>\n      <td>NaN</td>\n      <td>NaN</td>\n    </tr>\n    <tr>\n      <th>143</th>\n      <td>144</td>\n      <td>Ditto</td>\n      <td>Normal</td>\n      <td>NaN</td>\n      <td>48</td>\n      <td>48</td>\n      <td>48</td>\n      <td>48</td>\n      <td>48</td>\n      <td>48</td>\n      <td>1</td>\n      <td>False</td>\n      <td>NaN</td>\n      <td>NaN</td>\n      <td>NaN</td>\n      <td>NaN</td>\n    </tr>\n    <tr>\n      <th>182</th>\n      <td>183</td>\n      <td>Ariados</td>\n      <td>Bug</td>\n      <td>Poison</td>\n      <td>70</td>\n      <td>90</td>\n      <td>70</td>\n      <td>60</td>\n      <td>60</td>\n      <td>40</td>\n      <td>2</td>\n      <td>False</td>\n      <td>NaN</td>\n      <td>NaN</td>\n      <td>NaN</td>\n      <td>NaN</td>\n    </tr>\n    <tr>\n      <th>230</th>\n      <td>231</td>\n      <td>Shuckle</td>\n      <td>Bug</td>\n      <td>Rock</td>\n      <td>20</td>\n      <td>10</td>\n      <td>230</td>\n      <td>10</td>\n      <td>230</td>\n      <td>5</td>\n      <td>2</td>\n      <td>False</td>\n      <td>NaN</td>\n      <td>NaN</td>\n      <td>NaN</td>\n      <td>NaN</td>\n    </tr>\n    <tr>\n      <th>235</th>\n      <td>236</td>\n      <td>Ursaring</td>\n      <td>Normal</td>\n      <td>NaN</td>\n      <td>90</td>\n      <td>130</td>\n      <td>75</td>\n      <td>75</td>\n      <td>75</td>\n      <td>55</td>\n      <td>2</td>\n      <td>False</td>\n      <td>NaN</td>\n      <td>NaN</td>\n      <td>NaN</td>\n      <td>NaN</td>\n    </tr>\n    <tr>\n      <th>321</th>\n      <td>322</td>\n      <td>Hariyama</td>\n      <td>Fighting</td>\n      <td>NaN</td>\n      <td>144</td>\n      <td>120</td>\n      <td>60</td>\n      <td>40</td>\n      <td>60</td>\n      <td>50</td>\n      <td>3</td>\n      <td>False</td>\n      <td>NaN</td>\n      <td>NaN</td>\n      <td>NaN</td>\n      <td>NaN</td>\n    </tr>\n    <tr>\n      <th>418</th>\n      <td>419</td>\n      <td>Mega Latias</td>\n      <td>Dragon</td>\n      <td>Psychic</td>\n      <td>80</td>\n      <td>100</td>\n      <td>120</td>\n      <td>140</td>\n      <td>150</td>\n      <td>110</td>\n      <td>3</td>\n      <td>True</td>\n      <td>NaN</td>\n      <td>NaN</td>\n      <td>NaN</td>\n      <td>NaN</td>\n    </tr>\n    <tr>\n      <th>478</th>\n      <td>479</td>\n      <td>Honchkrow</td>\n      <td>Dark</td>\n      <td>Flying</td>\n      <td>100</td>\n      <td>125</td>\n      <td>52</td>\n      <td>105</td>\n      <td>52</td>\n      <td>71</td>\n      <td>4</td>\n      <td>False</td>\n      <td>NaN</td>\n      <td>NaN</td>\n      <td>NaN</td>\n      <td>NaN</td>\n    </tr>\n    <tr>\n      <th>555</th>\n      <td>556</td>\n      <td>Servine</td>\n      <td>Grass</td>\n      <td>NaN</td>\n      <td>60</td>\n      <td>60</td>\n      <td>75</td>\n      <td>60</td>\n      <td>75</td>\n      <td>83</td>\n      <td>5</td>\n      <td>False</td>\n      <td>NaN</td>\n      <td>NaN</td>\n      <td>NaN</td>\n      <td>NaN</td>\n    </tr>\n    <tr>\n      <th>617</th>\n      <td>618</td>\n      <td>Maractus</td>\n      <td>Grass</td>\n      <td>NaN</td>\n      <td>75</td>\n      <td>86</td>\n      <td>67</td>\n      <td>106</td>\n      <td>67</td>\n      <td>60</td>\n      <td>5</td>\n      <td>False</td>\n      <td>NaN</td>\n      <td>NaN</td>\n      <td>NaN</td>\n      <td>NaN</td>\n    </tr>\n    <tr>\n      <th>654</th>\n      <td>655</td>\n      <td>Jellicent</td>\n      <td>Water</td>\n      <td>Ghost</td>\n      <td>100</td>\n      <td>60</td>\n      <td>70</td>\n      <td>85</td>\n      <td>105</td>\n      <td>60</td>\n      <td>5</td>\n      <td>False</td>\n      <td>NaN</td>\n      <td>NaN</td>\n      <td>NaN</td>\n      <td>NaN</td>\n    </tr>\n    <tr>\n      <th>781</th>\n      <td>782</td>\n      <td>Pumpkaboo Small Size</td>\n      <td>Ghost</td>\n      <td>Grass</td>\n      <td>44</td>\n      <td>66</td>\n      <td>70</td>\n      <td>44</td>\n      <td>55</td>\n      <td>56</td>\n      <td>6</td>\n      <td>False</td>\n      <td>NaN</td>\n      <td>NaN</td>\n      <td>NaN</td>\n      <td>NaN</td>\n    </tr>\n  </tbody>\n</table>\n</div>"
     },
     "metadata": {},
     "execution_count": 21
    }
   ],
   "source": [
    "numberOfWins = numberOfWins.sort_index()\n",
    "numberOfWins['Total Fights'] = countByFirst.Winner + countBySecond.Winner\n",
    "numberOfWins['Win Percentage'] = numberOfWins.First_pokemon/numberOfWins['Total Fights']\n",
    "\n",
    "results2 = pd.merge(pokemon, numberOfWins, right_index = True, left_on='Number')\n",
    "results3 = pd.merge(pokemon, numberOfWins, left_on = 'Number', right_index = True, how= 'left')\n",
    "\n",
    "results3[results3['Win Percentage'].isnull()]\n",
    "\n"
   ]
  },
  {
   "cell_type": "code",
   "execution_count": 25,
   "metadata": {},
   "outputs": [
    {
     "output_type": "execute_result",
     "data": {
      "text/plain": [
       "     Number       Name   Type 1  Type 2  HP  Attack  Defense  Sp. Atk  \\\n",
       "289     290    Silcoon      Bug     NaN  50      35       55       25   \n",
       "189     190     Togepi    Fairy     NaN  35      20       65       40   \n",
       "638     639    Solosis  Psychic     NaN  45      30       40      105   \n",
       "236     237     Slugma     Fire     NaN  40      40       40       70   \n",
       "576     577      Munna  Psychic     NaN  76      25       45       67   \n",
       "188     189  Igglybuff   Normal   Fairy  90      30       15       40   \n",
       "394     395     Wynaut  Psychic     NaN  95      23       48       23   \n",
       "209     210     Wooper    Water  Ground  55      45       45       25   \n",
       "291     292    Cascoon      Bug     NaN  50      35       55       25   \n",
       "752     753   Spritzee    Fairy     NaN  78      52       60       63   \n",
       "\n",
       "     Sp. Def  Speed  Generation  Legendary  First_pokemon  Second_pokemon  \\\n",
       "289       25     15           3      False            3.0             3.0   \n",
       "189       65     20           2      False            3.0             3.0   \n",
       "638       50     20           5      False            4.0             4.0   \n",
       "236       40     20           2      False            4.0             4.0   \n",
       "576       55     24           5      False            5.0             5.0   \n",
       "188       20     15           2      False            5.0             5.0   \n",
       "394       48     23           3      False            6.0             6.0   \n",
       "209       25     15           2      False            6.0             6.0   \n",
       "291       25     15           3      False            7.0             7.0   \n",
       "752       65     23           6      False            8.0             8.0   \n",
       "\n",
       "     Total Fights  Win Percentage  \n",
       "289         138.0        0.021739  \n",
       "189         122.0        0.024590  \n",
       "638         129.0        0.031008  \n",
       "236         123.0        0.032520  \n",
       "576         128.0        0.039062  \n",
       "188         115.0        0.043478  \n",
       "394         130.0        0.046154  \n",
       "209         125.0        0.048000  \n",
       "291         133.0        0.052632  \n",
       "752         133.0        0.060150  "
      ],
      "text/html": "<div>\n<style scoped>\n    .dataframe tbody tr th:only-of-type {\n        vertical-align: middle;\n    }\n\n    .dataframe tbody tr th {\n        vertical-align: top;\n    }\n\n    .dataframe thead th {\n        text-align: right;\n    }\n</style>\n<table border=\"1\" class=\"dataframe\">\n  <thead>\n    <tr style=\"text-align: right;\">\n      <th></th>\n      <th>Number</th>\n      <th>Name</th>\n      <th>Type 1</th>\n      <th>Type 2</th>\n      <th>HP</th>\n      <th>Attack</th>\n      <th>Defense</th>\n      <th>Sp. Atk</th>\n      <th>Sp. Def</th>\n      <th>Speed</th>\n      <th>Generation</th>\n      <th>Legendary</th>\n      <th>First_pokemon</th>\n      <th>Second_pokemon</th>\n      <th>Total Fights</th>\n      <th>Win Percentage</th>\n    </tr>\n  </thead>\n  <tbody>\n    <tr>\n      <th>289</th>\n      <td>290</td>\n      <td>Silcoon</td>\n      <td>Bug</td>\n      <td>NaN</td>\n      <td>50</td>\n      <td>35</td>\n      <td>55</td>\n      <td>25</td>\n      <td>25</td>\n      <td>15</td>\n      <td>3</td>\n      <td>False</td>\n      <td>3.0</td>\n      <td>3.0</td>\n      <td>138.0</td>\n      <td>0.021739</td>\n    </tr>\n    <tr>\n      <th>189</th>\n      <td>190</td>\n      <td>Togepi</td>\n      <td>Fairy</td>\n      <td>NaN</td>\n      <td>35</td>\n      <td>20</td>\n      <td>65</td>\n      <td>40</td>\n      <td>65</td>\n      <td>20</td>\n      <td>2</td>\n      <td>False</td>\n      <td>3.0</td>\n      <td>3.0</td>\n      <td>122.0</td>\n      <td>0.024590</td>\n    </tr>\n    <tr>\n      <th>638</th>\n      <td>639</td>\n      <td>Solosis</td>\n      <td>Psychic</td>\n      <td>NaN</td>\n      <td>45</td>\n      <td>30</td>\n      <td>40</td>\n      <td>105</td>\n      <td>50</td>\n      <td>20</td>\n      <td>5</td>\n      <td>False</td>\n      <td>4.0</td>\n      <td>4.0</td>\n      <td>129.0</td>\n      <td>0.031008</td>\n    </tr>\n    <tr>\n      <th>236</th>\n      <td>237</td>\n      <td>Slugma</td>\n      <td>Fire</td>\n      <td>NaN</td>\n      <td>40</td>\n      <td>40</td>\n      <td>40</td>\n      <td>70</td>\n      <td>40</td>\n      <td>20</td>\n      <td>2</td>\n      <td>False</td>\n      <td>4.0</td>\n      <td>4.0</td>\n      <td>123.0</td>\n      <td>0.032520</td>\n    </tr>\n    <tr>\n      <th>576</th>\n      <td>577</td>\n      <td>Munna</td>\n      <td>Psychic</td>\n      <td>NaN</td>\n      <td>76</td>\n      <td>25</td>\n      <td>45</td>\n      <td>67</td>\n      <td>55</td>\n      <td>24</td>\n      <td>5</td>\n      <td>False</td>\n      <td>5.0</td>\n      <td>5.0</td>\n      <td>128.0</td>\n      <td>0.039062</td>\n    </tr>\n    <tr>\n      <th>188</th>\n      <td>189</td>\n      <td>Igglybuff</td>\n      <td>Normal</td>\n      <td>Fairy</td>\n      <td>90</td>\n      <td>30</td>\n      <td>15</td>\n      <td>40</td>\n      <td>20</td>\n      <td>15</td>\n      <td>2</td>\n      <td>False</td>\n      <td>5.0</td>\n      <td>5.0</td>\n      <td>115.0</td>\n      <td>0.043478</td>\n    </tr>\n    <tr>\n      <th>394</th>\n      <td>395</td>\n      <td>Wynaut</td>\n      <td>Psychic</td>\n      <td>NaN</td>\n      <td>95</td>\n      <td>23</td>\n      <td>48</td>\n      <td>23</td>\n      <td>48</td>\n      <td>23</td>\n      <td>3</td>\n      <td>False</td>\n      <td>6.0</td>\n      <td>6.0</td>\n      <td>130.0</td>\n      <td>0.046154</td>\n    </tr>\n    <tr>\n      <th>209</th>\n      <td>210</td>\n      <td>Wooper</td>\n      <td>Water</td>\n      <td>Ground</td>\n      <td>55</td>\n      <td>45</td>\n      <td>45</td>\n      <td>25</td>\n      <td>25</td>\n      <td>15</td>\n      <td>2</td>\n      <td>False</td>\n      <td>6.0</td>\n      <td>6.0</td>\n      <td>125.0</td>\n      <td>0.048000</td>\n    </tr>\n    <tr>\n      <th>291</th>\n      <td>292</td>\n      <td>Cascoon</td>\n      <td>Bug</td>\n      <td>NaN</td>\n      <td>50</td>\n      <td>35</td>\n      <td>55</td>\n      <td>25</td>\n      <td>25</td>\n      <td>15</td>\n      <td>3</td>\n      <td>False</td>\n      <td>7.0</td>\n      <td>7.0</td>\n      <td>133.0</td>\n      <td>0.052632</td>\n    </tr>\n    <tr>\n      <th>752</th>\n      <td>753</td>\n      <td>Spritzee</td>\n      <td>Fairy</td>\n      <td>NaN</td>\n      <td>78</td>\n      <td>52</td>\n      <td>60</td>\n      <td>63</td>\n      <td>65</td>\n      <td>23</td>\n      <td>6</td>\n      <td>False</td>\n      <td>8.0</td>\n      <td>8.0</td>\n      <td>133.0</td>\n      <td>0.060150</td>\n    </tr>\n  </tbody>\n</table>\n</div>"
     },
     "metadata": {},
     "execution_count": 25
    }
   ],
   "source": [
    "#find the top 10 pokemon with worst win percentage\n",
    "results3[np.isfinite(results3['Win Percentage'])].sort_values(by = ['Win Percentage']).head(10)"
   ]
  },
  {
   "cell_type": "code",
   "execution_count": 26,
   "metadata": {},
   "outputs": [
    {
     "output_type": "execute_result",
     "data": {
      "text/plain": [
       "     Number                      Name   Type 1    Type 2   HP  Attack  \\\n",
       "154     155           Mega Aerodactyl     Rock    Flying   80     135   \n",
       "512     513                   Weavile     Dark       Ice   70     120   \n",
       "703     704    Tornadus Therian Forme   Flying       NaN   79     100   \n",
       "19       20             Mega Beedrill      Bug    Poison   65     150   \n",
       "153     154                Aerodactyl     Rock    Flying   80     105   \n",
       "476     477              Mega Lopunny   Normal  Fighting   65     136   \n",
       "726     727                  Greninja    Water      Dark   72      95   \n",
       "716     717  Meloetta Pirouette Forme   Normal  Fighting  100     128   \n",
       "164     165             Mega Mewtwo Y  Psychic       NaN  106     150   \n",
       "349     350             Mega Sharpedo    Water      Dark   70     140   \n",
       "\n",
       "     Defense  Sp. Atk  Sp. Def  Speed  Generation  Legendary  First_pokemon  \\\n",
       "154       85       70       95    150           1      False          127.0   \n",
       "512       65       45       85    125           4      False          116.0   \n",
       "703       80      110       90    121           5       True          121.0   \n",
       "19        40       15       80    145           1      False          115.0   \n",
       "153       65       60       75    130           1      False          136.0   \n",
       "476       94       54       96    135           4      False          124.0   \n",
       "726       67      103       71    122           6      False          122.0   \n",
       "716       90       77       77    128           5      False          118.0   \n",
       "164       70      194      120    140           1       True          119.0   \n",
       "349       70      110       65    105           3      False          114.0   \n",
       "\n",
       "     Second_pokemon  Total Fights  Win Percentage  \n",
       "154           127.0         129.0        0.984496  \n",
       "512           116.0         119.0        0.974790  \n",
       "703           121.0         125.0        0.968000  \n",
       "19            115.0         119.0        0.966387  \n",
       "153           136.0         141.0        0.964539  \n",
       "476           124.0         129.0        0.961240  \n",
       "726           122.0         127.0        0.960630  \n",
       "716           118.0         123.0        0.959350  \n",
       "164           119.0         125.0        0.952000  \n",
       "349           114.0         120.0        0.950000  "
      ],
      "text/html": "<div>\n<style scoped>\n    .dataframe tbody tr th:only-of-type {\n        vertical-align: middle;\n    }\n\n    .dataframe tbody tr th {\n        vertical-align: top;\n    }\n\n    .dataframe thead th {\n        text-align: right;\n    }\n</style>\n<table border=\"1\" class=\"dataframe\">\n  <thead>\n    <tr style=\"text-align: right;\">\n      <th></th>\n      <th>Number</th>\n      <th>Name</th>\n      <th>Type 1</th>\n      <th>Type 2</th>\n      <th>HP</th>\n      <th>Attack</th>\n      <th>Defense</th>\n      <th>Sp. Atk</th>\n      <th>Sp. Def</th>\n      <th>Speed</th>\n      <th>Generation</th>\n      <th>Legendary</th>\n      <th>First_pokemon</th>\n      <th>Second_pokemon</th>\n      <th>Total Fights</th>\n      <th>Win Percentage</th>\n    </tr>\n  </thead>\n  <tbody>\n    <tr>\n      <th>154</th>\n      <td>155</td>\n      <td>Mega Aerodactyl</td>\n      <td>Rock</td>\n      <td>Flying</td>\n      <td>80</td>\n      <td>135</td>\n      <td>85</td>\n      <td>70</td>\n      <td>95</td>\n      <td>150</td>\n      <td>1</td>\n      <td>False</td>\n      <td>127.0</td>\n      <td>127.0</td>\n      <td>129.0</td>\n      <td>0.984496</td>\n    </tr>\n    <tr>\n      <th>512</th>\n      <td>513</td>\n      <td>Weavile</td>\n      <td>Dark</td>\n      <td>Ice</td>\n      <td>70</td>\n      <td>120</td>\n      <td>65</td>\n      <td>45</td>\n      <td>85</td>\n      <td>125</td>\n      <td>4</td>\n      <td>False</td>\n      <td>116.0</td>\n      <td>116.0</td>\n      <td>119.0</td>\n      <td>0.974790</td>\n    </tr>\n    <tr>\n      <th>703</th>\n      <td>704</td>\n      <td>Tornadus Therian Forme</td>\n      <td>Flying</td>\n      <td>NaN</td>\n      <td>79</td>\n      <td>100</td>\n      <td>80</td>\n      <td>110</td>\n      <td>90</td>\n      <td>121</td>\n      <td>5</td>\n      <td>True</td>\n      <td>121.0</td>\n      <td>121.0</td>\n      <td>125.0</td>\n      <td>0.968000</td>\n    </tr>\n    <tr>\n      <th>19</th>\n      <td>20</td>\n      <td>Mega Beedrill</td>\n      <td>Bug</td>\n      <td>Poison</td>\n      <td>65</td>\n      <td>150</td>\n      <td>40</td>\n      <td>15</td>\n      <td>80</td>\n      <td>145</td>\n      <td>1</td>\n      <td>False</td>\n      <td>115.0</td>\n      <td>115.0</td>\n      <td>119.0</td>\n      <td>0.966387</td>\n    </tr>\n    <tr>\n      <th>153</th>\n      <td>154</td>\n      <td>Aerodactyl</td>\n      <td>Rock</td>\n      <td>Flying</td>\n      <td>80</td>\n      <td>105</td>\n      <td>65</td>\n      <td>60</td>\n      <td>75</td>\n      <td>130</td>\n      <td>1</td>\n      <td>False</td>\n      <td>136.0</td>\n      <td>136.0</td>\n      <td>141.0</td>\n      <td>0.964539</td>\n    </tr>\n    <tr>\n      <th>476</th>\n      <td>477</td>\n      <td>Mega Lopunny</td>\n      <td>Normal</td>\n      <td>Fighting</td>\n      <td>65</td>\n      <td>136</td>\n      <td>94</td>\n      <td>54</td>\n      <td>96</td>\n      <td>135</td>\n      <td>4</td>\n      <td>False</td>\n      <td>124.0</td>\n      <td>124.0</td>\n      <td>129.0</td>\n      <td>0.961240</td>\n    </tr>\n    <tr>\n      <th>726</th>\n      <td>727</td>\n      <td>Greninja</td>\n      <td>Water</td>\n      <td>Dark</td>\n      <td>72</td>\n      <td>95</td>\n      <td>67</td>\n      <td>103</td>\n      <td>71</td>\n      <td>122</td>\n      <td>6</td>\n      <td>False</td>\n      <td>122.0</td>\n      <td>122.0</td>\n      <td>127.0</td>\n      <td>0.960630</td>\n    </tr>\n    <tr>\n      <th>716</th>\n      <td>717</td>\n      <td>Meloetta Pirouette Forme</td>\n      <td>Normal</td>\n      <td>Fighting</td>\n      <td>100</td>\n      <td>128</td>\n      <td>90</td>\n      <td>77</td>\n      <td>77</td>\n      <td>128</td>\n      <td>5</td>\n      <td>False</td>\n      <td>118.0</td>\n      <td>118.0</td>\n      <td>123.0</td>\n      <td>0.959350</td>\n    </tr>\n    <tr>\n      <th>164</th>\n      <td>165</td>\n      <td>Mega Mewtwo Y</td>\n      <td>Psychic</td>\n      <td>NaN</td>\n      <td>106</td>\n      <td>150</td>\n      <td>70</td>\n      <td>194</td>\n      <td>120</td>\n      <td>140</td>\n      <td>1</td>\n      <td>True</td>\n      <td>119.0</td>\n      <td>119.0</td>\n      <td>125.0</td>\n      <td>0.952000</td>\n    </tr>\n    <tr>\n      <th>349</th>\n      <td>350</td>\n      <td>Mega Sharpedo</td>\n      <td>Water</td>\n      <td>Dark</td>\n      <td>70</td>\n      <td>140</td>\n      <td>70</td>\n      <td>110</td>\n      <td>65</td>\n      <td>105</td>\n      <td>3</td>\n      <td>False</td>\n      <td>114.0</td>\n      <td>114.0</td>\n      <td>120.0</td>\n      <td>0.950000</td>\n    </tr>\n  </tbody>\n</table>\n</div>"
     },
     "metadata": {},
     "execution_count": 26
    }
   ],
   "source": [
    "results3[np.isfinite(results3['Win Percentage'])].sort_values(by = ['Win Percentage'], ascending = False ).head(10)"
   ]
  },
  {
   "cell_type": "code",
   "execution_count": null,
   "metadata": {},
   "outputs": [],
   "source": []
  }
 ]
}